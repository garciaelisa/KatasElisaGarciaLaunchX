{
 "cells": [
  {
   "cell_type": "markdown",
   "metadata": {},
   "source": [
    "# Ejercicio: Uso de funciones en Python\n",
    "Ejercicio 1: Trabajar con argumentos en funciones"
   ]
  },
  {
   "cell_type": "code",
   "execution_count": 23,
   "metadata": {},
   "outputs": [
    {
     "name": "stdout",
     "output_type": "stream",
     "text": [
      "Informe de combustible:\n",
      "    Promedio: 50.0%\n",
      "    Tanque1: 50%\n",
      "    Tanque2: 40%\n",
      "    Tanque3: 60%\n",
      "Informe de combustible:\n",
      "    Promedio: 50.0%\n",
      "    Tanque1: 50%\n",
      "    Tanque2: 40%\n",
      "    Tanque3: 60%\n"
     ]
    }
   ],
   "source": [
    "# Función para leer 3 tanques de combustible y muestre el promedio\n",
    "def crear_informe(tanque1, tanque2, tanque3):\n",
    "    promedio = (tanque1 + tanque2 + tanque3) / 3\n",
    "    return f\"\"\"Informe de combustible:\n",
    "    Promedio: {promedio}%\n",
    "    Tanque1: {tanque1}%\n",
    "    Tanque2: {tanque2}%\n",
    "    Tanque3: {tanque3}%\"\"\"\n",
    "\n",
    "# Llamamos a la función que genera el reporte print(funcion(tanque1, tanque2, tanque3))\n",
    "print(crear_informe(50, 40, 60))\n",
    "\n",
    "# Función promedio \n",
    "def calcula_promedio(lecturas):\n",
    "    prom = sum(lecturas)\n",
    "    num_lecturas = len(lecturas)\n",
    "    return prom / num_lecturas\n",
    "\n",
    "calcula_promedio([50, 40, 60])\n",
    "\n",
    "def crear_informe(tanque1, tanque2, tanque3):\n",
    "    return f\"\"\"Informe de combustible:\n",
    "    Promedio: {calcula_promedio([tanque1, tanque2, tanque3])}%\n",
    "    Tanque1: {tanque1}%\n",
    "    Tanque2: {tanque2}%\n",
    "    Tanque3: {tanque3}%\"\"\"\n",
    "\n",
    "print(crear_informe(50, 40, 60))"
   ]
  },
  {
   "cell_type": "markdown",
   "metadata": {},
   "source": [
    "# Ejercicio 2: Trabajo con argumentos de palabra clave\n",
    "Ejercicio : Trabajar con argumentos de palabras clave en funciones"
   ]
  },
  {
   "cell_type": "code",
   "execution_count": 24,
   "metadata": {},
   "outputs": [
    {
     "name": "stdout",
     "output_type": "stream",
     "text": [
      "Informe preciso de la mision:\n",
      "    Misión a: Luna\n",
      "    Tiempo de viaje: 66 minutos\n",
      "    Reserva de combustible: 9000\n",
      "    \n",
      "Informe preciso de la mision:\n",
      "    Misión a: Luna\n",
      "    Tiempo de viaje: 86 minutos\n",
      "    Reserva de combustible: 9000\n",
      "    \n",
      "\n",
      "    Misión a: Luna\n",
      "    Tiempo de viaje: 86 minutos\n",
      "    Reserva de combustible: 9000\n",
      "    tanque interno --> 3000 combsutible left\n",
      "tanque externo --> 6000 combsutible left\n",
      "\n"
     ]
    }
   ],
   "source": [
    "# Función con un informe preciso de la misión. Considera hora de prelanzamie_nto, tiempo de vuelo, destino, tanque externo y tanque interno\n",
    "def informe_mision(hora_prelanzamiento, tiempo_de_vuelo, destino, tanque_externo, tanque_interno):\n",
    "    return f\"\"\"Informe preciso de la mision:\n",
    "    Misión a: {destino}\n",
    "    Tiempo de viaje: {hora_prelanzamiento + tiempo_de_vuelo} minutos\n",
    "    Reserva de combustible: {tanque_externo + tanque_interno}\n",
    "    \"\"\"\n",
    "\n",
    "print(informe_mision(15, 51, \"Luna\", tanque_interno = 3000, tanque_externo = 6000))\n",
    "\n",
    "# Escribe tu nueva función de reporte considerando lo anterior\n",
    "def informe_mision(destino, *tiempo, **combustible):\n",
    "     return f\"\"\"Informe preciso de la mision:\n",
    "    Misión a: {destino}\n",
    "    Tiempo de viaje: {sum(tiempo)} minutos\n",
    "    Reserva de combustible: {sum(combustible.values())}\n",
    "    \"\"\"\n",
    "print(informe_mision(\"Luna\", 15, 51, 20, tanque_interno=3000, tanque_externo=6000))\n",
    "\n",
    "# Escribe tu nueva función\n",
    "def informe_mision(destino, *tiempo, **combustible):\n",
    "    reporte =  f\"\"\"\n",
    "    Misión a: {destino}\n",
    "    Tiempo de viaje: {sum(tiempo)} minutos\n",
    "    Reserva de combustible: {sum(combustible.values())}\n",
    "    \"\"\"\n",
    "    for tanque, total in combustible.items():\n",
    "        reporte += f\"tanque {tanque} --> {total} combsutible \\n\"\n",
    "    return reporte\n",
    "\n",
    "print(informe_mision(\"Luna\", 15, 51, 20, interno=3000, externo=6000))\n",
    "\n",
    "\n"
   ]
  }
 ],
 "metadata": {
  "interpreter": {
   "hash": "63fd5069d213b44bf678585dea6b12cceca9941eaf7f819626cde1f2670de90d"
  },
  "kernelspec": {
   "display_name": "Python 3.9.5 64-bit",
   "language": "python",
   "name": "python3"
  },
  "language_info": {
   "codemirror_mode": {
    "name": "ipython",
    "version": 3
   },
   "file_extension": ".py",
   "mimetype": "text/x-python",
   "name": "python",
   "nbconvert_exporter": "python",
   "pygments_lexer": "ipython3",
   "version": "3.9.5"
  },
  "orig_nbformat": 4
 },
 "nbformat": 4,
 "nbformat_minor": 2
}
